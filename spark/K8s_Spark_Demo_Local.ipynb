{
 "cells": [
  {
   "cell_type": "code",
   "execution_count": 17,
   "id": "b6ea1ad4-09a3-4454-8082-38a9f24516b9",
   "metadata": {},
   "outputs": [],
   "source": [
    "from pyspark.sql import SparkSession\n",
    "\n",
    "spark = SparkSession.builder \\\n",
    "        .appName(\"spark-local-file-read\") \\\n",
    "        .config(\"spark.executor.instances\", \"1\") \\\n",
    "        .config(\"spark.kubernetes.executor.request.cores\", \"1\") \\\n",
    "        .config(\"spark.executor.memory\", \"1g\") \\\n",
    "    \t.config(\"spark.master\", \"k8s://https://EFB9DF439C60D66475CF45513273626D.gr7.us-east-1.eks.amazonaws.com:443\") \\\n",
    "    \t.config(\"spark.kubernetes.namespace\", \"jupyterhub\") \\\n",
    "        .config(\"spark.driver.host\",\"10.121.37.206\") \\\n",
    "        .config(\"spark.kubernetes.container.image\", \"spark:latest\") \\\n",
    "        .config(\"spark.eventLog.enabled\", \"false\") \\\n",
    "        .getOrCreate()"
   ]
  },
  {
   "cell_type": "code",
   "execution_count": 18,
   "id": "98247be3-7b51-4ded-9a9d-1e1a382fa857",
   "metadata": {},
   "outputs": [
    {
     "name": "stderr",
     "output_type": "stream",
     "text": [
      "                                                                                \r"
     ]
    },
    {
     "name": "stdout",
     "output_type": "stream",
     "text": [
      "+----+-------+\n",
      "| age|   name|\n",
      "+----+-------+\n",
      "|NULL|Michael|\n",
      "|  30|   Andy|\n",
      "|  19| Justin|\n",
      "+----+-------+\n",
      "\n"
     ]
    }
   ],
   "source": [
    "spark.read.json(\"file:///opt/spark/examples/src/main/resources/people.json\").show()"
   ]
  },
  {
   "cell_type": "code",
   "execution_count": 19,
   "id": "d96be636-3bbd-4140-8888-c506b5f23cc7",
   "metadata": {},
   "outputs": [
    {
     "name": "stderr",
     "output_type": "stream",
     "text": [
      "24/09/19 14:35:33 WARN ExecutorPodsWatchSnapshotSource: Kubernetes client has been closed.\n"
     ]
    }
   ],
   "source": [
    "spark.stop()"
   ]
  },
  {
   "cell_type": "code",
   "execution_count": null,
   "id": "0e15c96b-8287-4cd1-ad5d-ab7eb41f1ee9",
   "metadata": {},
   "outputs": [],
   "source": []
  }
 ],
 "metadata": {
  "kernelspec": {
   "display_name": "Python 3 (ipykernel)",
   "language": "python",
   "name": "python3"
  },
  "language_info": {
   "codemirror_mode": {
    "name": "ipython",
    "version": 3
   },
   "file_extension": ".py",
   "mimetype": "text/x-python",
   "name": "python",
   "nbconvert_exporter": "python",
   "pygments_lexer": "ipython3",
   "version": "3.11.7"
  }
 },
 "nbformat": 4,
 "nbformat_minor": 5
}
